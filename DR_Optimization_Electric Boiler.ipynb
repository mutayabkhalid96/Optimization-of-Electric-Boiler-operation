{
  "nbformat": 4,
  "nbformat_minor": 0,
  "metadata": {
    "colab": {
      "name": "DR_student_updated.ipynb",
      "provenance": [],
      "collapsed_sections": [],
      "toc_visible": true
    },
    "kernelspec": {
      "display_name": "Python 3",
      "language": "python",
      "name": "python3"
    },
    "language_info": {
      "codemirror_mode": {
        "name": "ipython",
        "version": 3
      },
      "file_extension": ".py",
      "mimetype": "text/x-python",
      "name": "python",
      "nbconvert_exporter": "python",
      "pygments_lexer": "ipython3",
      "version": "3.8.2"
    }
  },
  "cells": [
    {
      "cell_type": "markdown",
      "metadata": {
        "id": "XFTZ97H6glZp"
      },
      "source": [
        "# Tariff Schemes"
      ]
    },
    {
      "cell_type": "markdown",
      "metadata": {
        "id": "5kJ0vZT0glZu"
      },
      "source": [
        "# An introduction to optimization"
      ]
    },
    {
      "cell_type": "markdown",
      "metadata": {
        "id": "msZIodOv6Z7G"
      },
      "source": [
        "The text was written by the course instructor.\n",
        "The programming code is written by the author."
      ]
    },
    {
      "cell_type": "markdown",
      "metadata": {
        "id": "EHbkmwsnglZz"
      },
      "source": [
        "Generally, the basic elements of an optimization are: decision variables, objective, constraints, and input parameters. \n",
        "\n",
        "$$max/min \\quad c^Tx$$\n",
        "\n",
        "$$st. \\quad Ax\\leq b$$\n",
        "\n",
        "$$and \\quad 0\\leq x$$\n",
        "\n",
        "- Decision variables (x): a vector (one-dimensional array) of the decision variables whose values we can change to find an optimal solution.\n",
        "- Objective ($c^Tx$): the Objective is a function of the decision variables. It gives a single number evaluating a solution, which the Optimizer tries to minimize or maximize, whichever you specify in the formulation. \n",
        "- Constraints ($0\\leq x$): The constraints are bounds on functions of the decision variables. Constraints can be written in the form of equality constraints and  inequality constraints.\n",
        "\n",
        "- Input parameters ($A, b$): data that is given as the input.\n",
        "\n",
        "Depending on the objective and the constraints, the type of optimization problem can be different:\n",
        "1. linear programs (LP,), the objective and all the constraints are linear function of the decision variables.\n",
        "2. quadratic programs (QP), the objective and constraints must all be linear or quadratic functions of decision variables.\n",
        "3. nonlinear programs (NLP), any of the constraints or objectve include function of the decision variables. \n",
        "\n",
        "In addition, regarding the type of decision variable, we can end up with continuous, discrete, or mixed optimization problem.\n"
      ]
    },
    {
      "cell_type": "markdown",
      "metadata": {
        "id": "i7W5NS26glZ1"
      },
      "source": [
        "# Solve an optimization problem"
      ]
    },
    {
      "cell_type": "markdown",
      "metadata": {
        "id": "JJf-XFB-glZ2"
      },
      "source": [
        "In order to implement an optimization problem and solve it, we need three different components:\n",
        "1. programing language, such as Python, Algebraic modeling language (AML)\n",
        "2. modeling system for mathematical optimization, like CVXPY, Pyomo, GAMS \n",
        "3. an optimization solver, such as glpk (free solver), Gurobi (commercial solver)\n",
        "It should be also noted that not all the solvers are able to solve all type of problems. For instance, CBC solver is only able to solve linear and mixed-integer linear problem. \n",
        "\n",
        "For more details about the fetaures of different solvers please check \"Choosing a solver\" part in: https://www.cvxpy.org/tutorial/advanced/index.html"
      ]
    },
    {
      "cell_type": "markdown",
      "metadata": {
        "id": "DKDY_wBVglZ7"
      },
      "source": [
        "# Schedule an electrical boiler"
      ]
    },
    {
      "cell_type": "markdown",
      "metadata": {
        "id": "rEleAHK1glZ8"
      },
      "source": [
        "During this session, we will program our optimization problem using CVXPY package in python. GLPK_MI will be used as the solver as well.\n",
        "\n",
        "As a start point, it is ecommended to check the available examples of CVXPY on: https://www.cvxpy.org/examples/basic/least_squares.html"
      ]
    },
    {
      "cell_type": "code",
      "metadata": {
        "id": "saxnudKYglZ-"
      },
      "source": [
        "#import packages\n",
        "import cvxpy as cp #a Python modeling language for convex optimization problems\n",
        "import numpy as np\n",
        "import pandas as pd\n",
        "import matplotlib.pyplot as plt"
      ],
      "execution_count": null,
      "outputs": []
    },
    {
      "cell_type": "markdown",
      "metadata": {
        "id": "54navEwZglaF"
      },
      "source": [
        "The first think we need to do is to import the input parameters, which in this case will be the load and the electricity price."
      ]
    },
    {
      "cell_type": "code",
      "metadata": {
        "colab": {
          "base_uri": "https://localhost:8080/"
        },
        "id": "S8tXvXR3glaH",
        "outputId": "d808ff2b-5444-4069-95ec-f98b8e33c892"
      },
      "source": [
        "#import load profile and signal for dynamic pricing\n",
        "load = pd.read_csv('load.csv').values # in W\n",
        "print(\"size of load\", np.shape(load))\n",
        "price = pd.read_csv('price.csv').values #in EUR/Wh\n",
        "print(\"size of price\", np.shape(price))"
      ],
      "execution_count": 75,
      "outputs": [
        {
          "output_type": "stream",
          "text": [
            "size of load (24, 1)\n",
            "size of price (24, 1)\n"
          ],
          "name": "stdout"
        }
      ]
    },
    {
      "cell_type": "markdown",
      "metadata": {
        "id": "otwpC_-tglaN"
      },
      "source": [
        "As it can be seen, the frequency of load and the price of electricity is hourly. "
      ]
    },
    {
      "cell_type": "code",
      "metadata": {
        "id": "qMQ8B1gqglaP"
      },
      "source": [
        "dt = 1        #Time step [1 hr]\n",
        "T = 24        #number of hour in one day"
      ],
      "execution_count": null,
      "outputs": []
    },
    {
      "cell_type": "markdown",
      "metadata": {
        "id": "LB3xTBrXglaU"
      },
      "source": [
        "# 0: Without Demand Response"
      ]
    },
    {
      "cell_type": "code",
      "metadata": {
        "colab": {
          "base_uri": "https://localhost:8080/",
          "height": 297
        },
        "id": "4FQBTtQtglaW",
        "outputId": "5edc7769-b7f1-422e-9f7e-08403841c055"
      },
      "source": [
        "#plot results without Demand Response\n",
        "fig, ax1 = plt.subplots()\n",
        "color = 'tab:blue'\n",
        "ax1.set_xlabel('hours')\n",
        "ax1.set_ylabel('power [W]', color=color)\n",
        "ax1.bar(np.arange(T), load[:, 0]*dt, color=color)\n",
        "ax1.tick_params(axis='y', labelcolor=color)\n",
        "ax2 = ax1.twinx()  # instantiate a second axes that shares the same x-axis\n",
        "\n",
        "color = 'tab:red'\n",
        "ax2.set_ylabel('price[EUR/kWh]', color=color)  # we already handled the x-label with ax1\n",
        "ax2.plot(np.arange(T), price*1e3, color=color)\n",
        "ax2.tick_params(axis='y', labelcolor=color)\n",
        "\n",
        "fig.tight_layout()  # otherwise the right y-label is slightly clipped\n",
        "plt.show()"
      ],
      "execution_count": null,
      "outputs": [
        {
          "output_type": "display_data",
          "data": {
            "image/png": "[encoded data removed]",
            "text/plain": [
              "<Figure size 432x288 with 2 Axes>"
            ]
          },
          "metadata": {
            "tags": []
          }
        }
      ]
    },
    {
      "cell_type": "code",
      "metadata": {
        "colab": {
          "base_uri": "https://localhost:8080/"
        },
        "id": "og06o7jNglaf",
        "outputId": "f93c13cf-fa22-4fbf-859f-5f60b0e4771e"
      },
      "source": [
        "#calculate total cost\n",
        "\n",
        "cost_without_DR = sum(load*dt*price)\n",
        "\n",
        "print(\"Total cost without DR = \", cost_without_DR)\n"
      ],
      "execution_count": null,
      "outputs": [
        {
          "output_type": "stream",
          "text": [
            "Total cost without DR =  [0.7578928]\n"
          ],
          "name": "stdout"
        }
      ]
    },
    {
      "cell_type": "markdown",
      "metadata": {
        "id": "37w7J58oglak"
      },
      "source": [
        "# 1: Demand Response1:  "
      ]
    },
    {
      "cell_type": "markdown",
      "metadata": {
        "id": "l5rB0impglam"
      },
      "source": [
        "Solve the cost optimization problem of a hot water boiler responding to a real-time pricing scheme. Here, it is assumed that the electric power consumption is limited to 1350 W. However, it can be any value between 0 and 1350 W, which means that we are facing with a continuous variable.\n",
        "\n",
        "Below you can see the mathematical formulation for this problem."
      ]
    },
    {
      "cell_type": "markdown",
      "metadata": {
        "id": "MrdFcQEBATvH"
      },
      "source": [
        "\\begin{align}\n",
        "    &minimize\n",
        "    \\begin{aligned}[t]\n",
        "       &\\sum_{t=1}^{T} \\bigl(p_1(t)*dt*price(t)\\big) \n",
        "    \\end{aligned} \\notag \\\\\n",
        "    &\\text{subject to} \\notag \\\\\n",
        "    & \\sum_{t=1}^{T} p_1(t)*dt = E_{tot}, \\\\\n",
        "    & p_1(t)\\geq0,\\quad p_1(t)\\leq{P_{max}}.\\notag \\\\\n",
        "    \\\\\n",
        "    &\\text{while the parameters are:} \\notag \\\\\n",
        "    & p_{max} = 1350 W,  \\\\\n",
        "    & \\sum_{t=1}^{T} load(t)*dt = E_{tot},\n",
        "\\end{align}"
      ]
    },
    {
      "cell_type": "markdown",
      "metadata": {
        "id": "c3096YImAmQi"
      },
      "source": [
        "now, please start complete the code:"
      ]
    },
    {
      "cell_type": "code",
      "metadata": {
        "id": "c3kh6qWJhIi4"
      },
      "source": [
        "#variable p_1\n",
        "p_1 = cp.Variable(T)"
      ],
      "execution_count": null,
      "outputs": []
    },
    {
      "cell_type": "code",
      "metadata": {
        "colab": {
          "base_uri": "https://localhost:8080/"
        },
        "id": "I6I2qldcglam",
        "outputId": "254ec928-830a-4957-e867-1c3fcf8caf81"
      },
      "source": [
        "#select parameters\n",
        "#Maximum power consumption\n",
        "P_max_1 = 1350\n",
        "#calculate the total consumption of boiler during one day\n",
        "Etot = sum(load*dt)\n",
        "print(Etot)\n"
      ],
      "execution_count": null,
      "outputs": [
        {
          "output_type": "stream",
          "text": [
            "[4550]\n"
          ],
          "name": "stdout"
        }
      ]
    },
    {
      "cell_type": "code",
      "metadata": {
        "id": "5seYg0y4hQe0"
      },
      "source": [
        "#Constraints: Power constraints and Energy constraint\n",
        "\n",
        "constraints = [0 <= p_1, p_1 <= P_max_1, sum(p_1*dt) == Etot]"
      ],
      "execution_count": null,
      "outputs": []
    },
    {
      "cell_type": "code",
      "metadata": {
        "id": "6zpxsFMwhUB4"
      },
      "source": [
        "#objective function\n",
        "\n",
        "objective = cp.Minimize(sum(p_1*dt*price))"
      ],
      "execution_count": null,
      "outputs": []
    },
    {
      "cell_type": "code",
      "metadata": {
        "id": "VFQN8xiMha29"
      },
      "source": [
        "#Solve optimization problem\n",
        "\n",
        "prob = cp.Problem(objective, constraints)"
      ],
      "execution_count": null,
      "outputs": []
    },
    {
      "cell_type": "code",
      "metadata": {
        "colab": {
          "base_uri": "https://localhost:8080/"
        },
        "id": "zfZY0kJAhenU",
        "outputId": "c71decef-d886-4877-bedf-44836630a471"
      },
      "source": [
        "# print the optimal results by using solver GLPK_MI\n",
        "print(\"Total cost DR1\", prob.solve(solver=cp.GLPK_MI))\n",
        "print(\"Optimal var\")\n",
        "print(p_1.value) # A numpy ndarray.\n",
        "print(sum(p_1.value))"
      ],
      "execution_count": null,
      "outputs": [
        {
          "output_type": "stream",
          "text": [
            "Total cost DR1 0.55444045\n",
            "Optimal var\n",
            "[   0.  500. 1350. 1350. 1350.    0.    0.    0.    0.    0.    0.    0.\n",
            "    0.    0.    0.    0.    0.    0.    0.    0.    0.    0.    0.    0.]\n",
            "4550.0\n"
          ],
          "name": "stdout"
        }
      ]
    },
    {
      "cell_type": "code",
      "metadata": {
        "colab": {
          "base_uri": "https://localhost:8080/",
          "height": 297
        },
        "id": "ofOxOSsVglas",
        "outputId": "d7b6704d-7073-406a-a0cf-6d15602dba2e"
      },
      "source": [
        "#plot the results\n",
        "fig, ax1 = plt.subplots()\n",
        "color = 'tab:blue'\n",
        "ax1.set_xlabel('hours')\n",
        "ax1.set_ylabel('power [W]', color=color)\n",
        "ax1.bar(np.arange(T), p_1.value, color=color)\n",
        "ax1.tick_params(axis='y', labelcolor=color)\n",
        "ax2 = ax1.twinx()  # instantiate a second axes that shares the same x-axis\n",
        "\n",
        "color = 'tab:red'\n",
        "ax2.set_ylabel('price[EUR/kWh]', color=color)  # we already handled the x-label with ax1\n",
        "ax2.plot(np.arange(T), price*1e3, color=color)\n",
        "ax2.tick_params(axis='y', labelcolor=color)\n",
        "\n",
        "fig.tight_layout()  # otherwise the right y-label is slightly clipped\n",
        "plt.show()\n"
      ],
      "execution_count": null,
      "outputs": [
        {
          "output_type": "display_data",
          "data": {
            "image/png": "[encoded data removed]",
            "text/plain": [
              "<Figure size 432x288 with 2 Axes>"
            ]
          },
          "metadata": {
            "tags": []
          }
        }
      ]
    },
    {
      "cell_type": "code",
      "metadata": {
        "id": "a3P11G8Hglay"
      },
      "source": [
        "\n",
        "#Please compare the results from 0 and 1 in your answer sheet\n"
      ],
      "execution_count": null,
      "outputs": []
    },
    {
      "cell_type": "markdown",
      "metadata": {
        "id": "HuyTmfHRgla4"
      },
      "source": [
        "# 2: Demand Response2:"
      ]
    },
    {
      "cell_type": "markdown",
      "metadata": {
        "id": "8NtK7T85gla5"
      },
      "source": [
        "Here, it is assumed that the electric power consumption is limited to 1350 W and it can be on or off. In this case, you are dealing with a mixed-inteager linear problem(MILP). This means, the boiler can work only in two modes, on and off. When the boiler is on it consumes 1350 W and when it is off it consumes no electricity.\n",
        "\n",
        "Tip: since here we are facing a binary variable, on or off mode, instead of a continuous variable we need to define a \"boolean\" variable. For more information please check the tutorial of CVXPY for boolean variable in a MILP https://www.cvxpy.org/tutorial/advanced/index.html . "
      ]
    },
    {
      "cell_type": "code",
      "metadata": {
        "colab": {
          "base_uri": "https://localhost:8080/"
        },
        "id": "_OU0I8tIgla5",
        "outputId": "e408810f-9ce0-4d7c-b25a-5241e302190b"
      },
      "source": [
        "#select parameters\n",
        "P_max_2 = 1350\n",
        "Etot = sum(load*dt)\n",
        "Etot\n"
      ],
      "execution_count": null,
      "outputs": [
        {
          "output_type": "execute_result",
          "data": {
            "text/plain": [
              "array([4550])"
            ]
          },
          "metadata": {
            "tags": []
          },
          "execution_count": 19
        }
      ]
    },
    {
      "cell_type": "code",
      "metadata": {
        "id": "f9CjNqv0hu25"
      },
      "source": [
        "#variabl  p_2\n",
        "p_2 = P_max_2* cp.Variable(T, boolean=True)\n",
        "#p_2 =  cp.Variable(T, boolean=True)\n"
      ],
      "execution_count": null,
      "outputs": []
    },
    {
      "cell_type": "markdown",
      "metadata": {
        "id": "QHpC2jrkEcYa"
      },
      "source": [
        "Here please pay attension to the constraints. the constraint to meet the total demand needs to be changed from equality form to inequality form. "
      ]
    },
    {
      "cell_type": "code",
      "metadata": {
        "id": "DKAn5vsnh37E"
      },
      "source": [
        "#Constraints: Power constraints and Energy constraint\n",
        "\n",
        "constraints = [sum(p_2*dt) >= Etot]\n"
      ],
      "execution_count": null,
      "outputs": []
    },
    {
      "cell_type": "code",
      "metadata": {
        "id": "OX-hMm3niSw9"
      },
      "source": [
        "#objective function\n",
        "objective = cp.Minimize(sum(p_2*dt*price))"
      ],
      "execution_count": null,
      "outputs": []
    },
    {
      "cell_type": "code",
      "metadata": {
        "colab": {
          "background_save": true
        },
        "id": "nkAOnUX9iYA6"
      },
      "source": [
        "#Solve optimization problem\n",
        "prob = cp.Problem(objective, constraints)"
      ],
      "execution_count": null,
      "outputs": []
    },
    {
      "cell_type": "code",
      "metadata": {
        "colab": {
          "base_uri": "https://localhost:8080/"
        },
        "id": "MEZfk5IIid1m",
        "outputId": "d5dd8cb7-b440-4959-c148-7bdb08ebe154"
      },
      "source": [
        "# print the optimal results\n",
        "print(\"Total cost DR2\", prob.solve(solver=cp.GLPK_MI))\n",
        "print(\"Optimal var\")\n",
        "print(p_2.value) # A numpy ndarray.\n",
        "print(Etot)\n",
        "print(sum(p_2.value))"
      ],
      "execution_count": null,
      "outputs": [
        {
          "output_type": "stream",
          "text": [
            "Total cost DR2 0.0\n",
            "Optimal var\n",
            "[0. 0. 0. 0. 0. 0. 0. 0. 0. 0. 0. 0. 0. 0. 0. 0. 0. 0. 0. 0. 0. 0. 0. 0.]\n",
            "[4550]\n",
            "0.0\n"
          ],
          "name": "stdout"
        }
      ]
    },
    {
      "cell_type": "code",
      "metadata": {
        "colab": {
          "base_uri": "https://localhost:8080/",
          "height": 664
        },
        "id": "5_LKXyLHglbA",
        "outputId": "49e83890-44a0-42ff-eac0-271a372a6973"
      },
      "source": [
        "\n",
        "#plot the results\n",
        "fig, ax1 = plt.subplots()\n",
        "color = 'tab:blue'\n",
        "ax1.set_xlabel('hours')\n",
        "ax1.set_ylabel('power [W]', color=color)\n",
        "ax1.bar(np.arange(T), p_2.value, color=color)\n",
        "ax1.tick_params(axis='y', labelcolor=color)\n",
        "ax2 = ax1.twinx()  # instantiate a second axes that shares the same x-axis\n",
        "\n",
        "color = 'tab:red'\n",
        "ax2.set_ylabel('price[EUR/kWh]', color=color)  # we already handled the x-label with ax1\n",
        "ax2.plot(np.arange(T), price*1e3, color=color)\n",
        "ax2.tick_params(axis='y', labelcolor=color)\n",
        "\n",
        "fig.tight_layout()  # otherwise the right y-label is slightly clipped\n",
        "plt.show()"
      ],
      "execution_count": null,
      "outputs": [
        {
          "output_type": "error",
          "ename": "TypeError",
          "evalue": "ignored",
          "traceback": [
            "\u001b[0;31m---------------------------------------------------------------------------\u001b[0m",
            "\u001b[0;31mTypeError\u001b[0m                                 Traceback (most recent call last)",
            "\u001b[0;32m<ipython-input-31-5a3e125d2c4f>\u001b[0m in \u001b[0;36m<module>\u001b[0;34m()\u001b[0m\n\u001b[1;32m      5\u001b[0m \u001b[0max1\u001b[0m\u001b[0;34m.\u001b[0m\u001b[0mset_xlabel\u001b[0m\u001b[0;34m(\u001b[0m\u001b[0;34m'hours'\u001b[0m\u001b[0;34m)\u001b[0m\u001b[0;34m\u001b[0m\u001b[0;34m\u001b[0m\u001b[0m\n\u001b[1;32m      6\u001b[0m \u001b[0max1\u001b[0m\u001b[0;34m.\u001b[0m\u001b[0mset_ylabel\u001b[0m\u001b[0;34m(\u001b[0m\u001b[0;34m'power [W]'\u001b[0m\u001b[0;34m,\u001b[0m \u001b[0mcolor\u001b[0m\u001b[0;34m=\u001b[0m\u001b[0mcolor\u001b[0m\u001b[0;34m)\u001b[0m\u001b[0;34m\u001b[0m\u001b[0;34m\u001b[0m\u001b[0m\n\u001b[0;32m----> 7\u001b[0;31m \u001b[0max1\u001b[0m\u001b[0;34m.\u001b[0m\u001b[0mbar\u001b[0m\u001b[0;34m(\u001b[0m\u001b[0mnp\u001b[0m\u001b[0;34m.\u001b[0m\u001b[0marange\u001b[0m\u001b[0;34m(\u001b[0m\u001b[0mT\u001b[0m\u001b[0;34m)\u001b[0m\u001b[0;34m,\u001b[0m \u001b[0mp_2\u001b[0m\u001b[0;34m.\u001b[0m\u001b[0mvalue\u001b[0m\u001b[0;34m,\u001b[0m \u001b[0mcolor\u001b[0m\u001b[0;34m=\u001b[0m\u001b[0mcolor\u001b[0m\u001b[0;34m)\u001b[0m\u001b[0;34m\u001b[0m\u001b[0;34m\u001b[0m\u001b[0m\n\u001b[0m\u001b[1;32m      8\u001b[0m \u001b[0max1\u001b[0m\u001b[0;34m.\u001b[0m\u001b[0mtick_params\u001b[0m\u001b[0;34m(\u001b[0m\u001b[0maxis\u001b[0m\u001b[0;34m=\u001b[0m\u001b[0;34m'y'\u001b[0m\u001b[0;34m,\u001b[0m \u001b[0mlabelcolor\u001b[0m\u001b[0;34m=\u001b[0m\u001b[0mcolor\u001b[0m\u001b[0;34m)\u001b[0m\u001b[0;34m\u001b[0m\u001b[0;34m\u001b[0m\u001b[0m\n\u001b[1;32m      9\u001b[0m \u001b[0max2\u001b[0m \u001b[0;34m=\u001b[0m \u001b[0max1\u001b[0m\u001b[0;34m.\u001b[0m\u001b[0mtwinx\u001b[0m\u001b[0;34m(\u001b[0m\u001b[0;34m)\u001b[0m  \u001b[0;31m# instantiate a second axes that shares the same x-axis\u001b[0m\u001b[0;34m\u001b[0m\u001b[0;34m\u001b[0m\u001b[0m\n",
            "\u001b[0;32m/usr/local/lib/python3.6/dist-packages/matplotlib/__init__.py\u001b[0m in \u001b[0;36minner\u001b[0;34m(ax, data, *args, **kwargs)\u001b[0m\n\u001b[1;32m   1563\u001b[0m     \u001b[0;32mdef\u001b[0m \u001b[0minner\u001b[0m\u001b[0;34m(\u001b[0m\u001b[0max\u001b[0m\u001b[0;34m,\u001b[0m \u001b[0;34m*\u001b[0m\u001b[0margs\u001b[0m\u001b[0;34m,\u001b[0m \u001b[0mdata\u001b[0m\u001b[0;34m=\u001b[0m\u001b[0;32mNone\u001b[0m\u001b[0;34m,\u001b[0m \u001b[0;34m**\u001b[0m\u001b[0mkwargs\u001b[0m\u001b[0;34m)\u001b[0m\u001b[0;34m:\u001b[0m\u001b[0;34m\u001b[0m\u001b[0;34m\u001b[0m\u001b[0m\n\u001b[1;32m   1564\u001b[0m         \u001b[0;32mif\u001b[0m \u001b[0mdata\u001b[0m \u001b[0;32mis\u001b[0m \u001b[0;32mNone\u001b[0m\u001b[0;34m:\u001b[0m\u001b[0;34m\u001b[0m\u001b[0;34m\u001b[0m\u001b[0m\n\u001b[0;32m-> 1565\u001b[0;31m             \u001b[0;32mreturn\u001b[0m \u001b[0mfunc\u001b[0m\u001b[0;34m(\u001b[0m\u001b[0max\u001b[0m\u001b[0;34m,\u001b[0m \u001b[0;34m*\u001b[0m\u001b[0mmap\u001b[0m\u001b[0;34m(\u001b[0m\u001b[0msanitize_sequence\u001b[0m\u001b[0;34m,\u001b[0m \u001b[0margs\u001b[0m\u001b[0;34m)\u001b[0m\u001b[0;34m,\u001b[0m \u001b[0;34m**\u001b[0m\u001b[0mkwargs\u001b[0m\u001b[0;34m)\u001b[0m\u001b[0;34m\u001b[0m\u001b[0;34m\u001b[0m\u001b[0m\n\u001b[0m\u001b[1;32m   1566\u001b[0m \u001b[0;34m\u001b[0m\u001b[0m\n\u001b[1;32m   1567\u001b[0m         \u001b[0mbound\u001b[0m \u001b[0;34m=\u001b[0m \u001b[0mnew_sig\u001b[0m\u001b[0;34m.\u001b[0m\u001b[0mbind\u001b[0m\u001b[0;34m(\u001b[0m\u001b[0max\u001b[0m\u001b[0;34m,\u001b[0m \u001b[0;34m*\u001b[0m\u001b[0margs\u001b[0m\u001b[0;34m,\u001b[0m \u001b[0;34m**\u001b[0m\u001b[0mkwargs\u001b[0m\u001b[0;34m)\u001b[0m\u001b[0;34m\u001b[0m\u001b[0;34m\u001b[0m\u001b[0m\n",
            "\u001b[0;32m/usr/local/lib/python3.6/dist-packages/matplotlib/axes/_axes.py\u001b[0m in \u001b[0;36mbar\u001b[0;34m(self, x, height, width, bottom, align, **kwargs)\u001b[0m\n\u001b[1;32m   2394\u001b[0m                 \u001b[0medgecolor\u001b[0m\u001b[0;34m=\u001b[0m\u001b[0me\u001b[0m\u001b[0;34m,\u001b[0m\u001b[0;34m\u001b[0m\u001b[0;34m\u001b[0m\u001b[0m\n\u001b[1;32m   2395\u001b[0m                 \u001b[0mlinewidth\u001b[0m\u001b[0;34m=\u001b[0m\u001b[0mlw\u001b[0m\u001b[0;34m,\u001b[0m\u001b[0;34m\u001b[0m\u001b[0;34m\u001b[0m\u001b[0m\n\u001b[0;32m-> 2396\u001b[0;31m                 \u001b[0mlabel\u001b[0m\u001b[0;34m=\u001b[0m\u001b[0;34m'_nolegend_'\u001b[0m\u001b[0;34m,\u001b[0m\u001b[0;34m\u001b[0m\u001b[0;34m\u001b[0m\u001b[0m\n\u001b[0m\u001b[1;32m   2397\u001b[0m                 )\n\u001b[1;32m   2398\u001b[0m             \u001b[0mr\u001b[0m\u001b[0;34m.\u001b[0m\u001b[0mupdate\u001b[0m\u001b[0;34m(\u001b[0m\u001b[0mkwargs\u001b[0m\u001b[0;34m)\u001b[0m\u001b[0;34m\u001b[0m\u001b[0;34m\u001b[0m\u001b[0m\n",
            "\u001b[0;32m/usr/local/lib/python3.6/dist-packages/matplotlib/patches.py\u001b[0m in \u001b[0;36m__init__\u001b[0;34m(self, xy, width, height, angle, **kwargs)\u001b[0m\n\u001b[1;32m    734\u001b[0m \u001b[0;34m\u001b[0m\u001b[0m\n\u001b[1;32m    735\u001b[0m         \u001b[0mself\u001b[0m\u001b[0;34m.\u001b[0m\u001b[0m_x1\u001b[0m \u001b[0;34m=\u001b[0m \u001b[0mself\u001b[0m\u001b[0;34m.\u001b[0m\u001b[0m_x0\u001b[0m \u001b[0;34m+\u001b[0m \u001b[0mself\u001b[0m\u001b[0;34m.\u001b[0m\u001b[0m_width\u001b[0m\u001b[0;34m\u001b[0m\u001b[0;34m\u001b[0m\u001b[0m\n\u001b[0;32m--> 736\u001b[0;31m         \u001b[0mself\u001b[0m\u001b[0;34m.\u001b[0m\u001b[0m_y1\u001b[0m \u001b[0;34m=\u001b[0m \u001b[0mself\u001b[0m\u001b[0;34m.\u001b[0m\u001b[0m_y0\u001b[0m \u001b[0;34m+\u001b[0m \u001b[0mself\u001b[0m\u001b[0;34m.\u001b[0m\u001b[0m_height\u001b[0m\u001b[0;34m\u001b[0m\u001b[0;34m\u001b[0m\u001b[0m\n\u001b[0m\u001b[1;32m    737\u001b[0m \u001b[0;34m\u001b[0m\u001b[0m\n\u001b[1;32m    738\u001b[0m         \u001b[0mself\u001b[0m\u001b[0;34m.\u001b[0m\u001b[0mangle\u001b[0m \u001b[0;34m=\u001b[0m \u001b[0mfloat\u001b[0m\u001b[0;34m(\u001b[0m\u001b[0mangle\u001b[0m\u001b[0;34m)\u001b[0m\u001b[0;34m\u001b[0m\u001b[0;34m\u001b[0m\u001b[0m\n",
            "\u001b[0;31mTypeError\u001b[0m: unsupported operand type(s) for +: 'int' and 'NoneType'"
          ]
        },
        {
          "output_type": "display_data",
          "data": {
            "image/png": "[encoded data removed]",
            "text/plain": [
              "<Figure size 432x288 with 1 Axes>"
            ]
          },
          "metadata": {
            "tags": []
          }
        }
      ]
    },
    {
      "cell_type": "code",
      "metadata": {
        "id": "JAhjxgbDglbJ"
      },
      "source": [
        "#Please compare the results in your answer sheet\n"
      ],
      "execution_count": null,
      "outputs": []
    },
    {
      "cell_type": "markdown",
      "metadata": {
        "id": "KBLOH6SPglbN"
      },
      "source": [
        "# 3: Demand Response3:"
      ]
    },
    {
      "cell_type": "markdown",
      "metadata": {
        "id": "te3A6EieglbO"
      },
      "source": [
        "Now, it is assumed that the electric power consumption is limited to 600 W, instead of 1350 W. In this step, the dicision varivale is a continuous variable. "
      ]
    },
    {
      "cell_type": "code",
      "metadata": {
        "colab": {
          "base_uri": "https://localhost:8080/",
          "height": 209
        },
        "id": "D0q6GrcxglbQ",
        "outputId": "dbe7a2ea-ed91-48bf-cc61-07bf2bed0668"
      },
      "source": [
        "#please write down your code, here.\n",
        "P_max_3 = 600\n",
        "Etot = sum(load*dt)"
      ],
      "execution_count": null,
      "outputs": [
        {
          "output_type": "error",
          "ename": "NameError",
          "evalue": "ignored",
          "traceback": [
            "\u001b[0;31m---------------------------------------------------------------------------\u001b[0m",
            "\u001b[0;31mNameError\u001b[0m                                 Traceback (most recent call last)",
            "\u001b[0;32m<ipython-input-1-fb3ce61f20f9>\u001b[0m in \u001b[0;36m<module>\u001b[0;34m()\u001b[0m\n\u001b[1;32m      1\u001b[0m \u001b[0;31m#please write down your code, here.\u001b[0m\u001b[0;34m\u001b[0m\u001b[0;34m\u001b[0m\u001b[0;34m\u001b[0m\u001b[0m\n\u001b[1;32m      2\u001b[0m \u001b[0mP_max_3\u001b[0m \u001b[0;34m=\u001b[0m \u001b[0;36m600\u001b[0m\u001b[0;34m\u001b[0m\u001b[0;34m\u001b[0m\u001b[0m\n\u001b[0;32m----> 3\u001b[0;31m \u001b[0mEtot\u001b[0m \u001b[0;34m=\u001b[0m \u001b[0msum\u001b[0m\u001b[0;34m(\u001b[0m\u001b[0mload\u001b[0m\u001b[0;34m*\u001b[0m\u001b[0mdt\u001b[0m\u001b[0;34m)\u001b[0m\u001b[0;34m\u001b[0m\u001b[0;34m\u001b[0m\u001b[0m\n\u001b[0m",
            "\u001b[0;31mNameError\u001b[0m: name 'load' is not defined"
          ]
        }
      ]
    },
    {
      "cell_type": "code",
      "metadata": {
        "id": "Wp05NyvsjHN1"
      },
      "source": [
        "#variable p_3\n",
        "\n",
        "p_3 = cp.Variable(T, boolean=True)"
      ],
      "execution_count": null,
      "outputs": []
    },
    {
      "cell_type": "code",
      "metadata": {
        "id": "yBPEpvzEjL69"
      },
      "source": [
        "#Constraints: Power constraints and Energy constraint\n",
        "\n",
        "constraints = [sum(P_max_3*p_3*dt) >= Etot]"
      ],
      "execution_count": null,
      "outputs": []
    },
    {
      "cell_type": "code",
      "metadata": {
        "id": "FeagQqO4jPdz"
      },
      "source": [
        "#objective function\n",
        "\n",
        "objective = cp.Minimize(sum(P_max_3*p_3*price))"
      ],
      "execution_count": null,
      "outputs": []
    },
    {
      "cell_type": "code",
      "metadata": {
        "colab": {
          "background_save": true
        },
        "id": "tDxk5JfEjSAe"
      },
      "source": [
        "#Solve optimization problem\n",
        "\n",
        "\n",
        "prob = cp.Problem(objective, constraints)"
      ],
      "execution_count": null,
      "outputs": []
    },
    {
      "cell_type": "code",
      "metadata": {
        "colab": {
          "base_uri": "https://localhost:8080/",
          "height": 90
        },
        "id": "SzovQLt8jY6m",
        "outputId": "51ffd64c-e221-41f4-f596-2e91a32005ae"
      },
      "source": [
        "# print the optimal results\n",
        "print(\"Total cost DR3\", prob.solve(solver=cp.GLPK_MI))\n",
        "print(\"Optimal var\")\n",
        "print(P_max_3*p_3.value) # A numpy ndarray."
      ],
      "execution_count": null,
      "outputs": [
        {
          "output_type": "stream",
          "text": [
            "Total cost DR3 0.6120006\n",
            "Optimal var\n",
            "[600. 600. 600. 600. 600. 600. 600.   0.   0.   0.   0.   0.   0.   0.\n",
            "   0.   0.   0.   0.   0.   0.   0.   0.   0. 600.]\n"
          ],
          "name": "stdout"
        }
      ]
    },
    {
      "cell_type": "code",
      "metadata": {
        "colab": {
          "base_uri": "https://localhost:8080/",
          "height": 333
        },
        "id": "0tCQgNXmjtSb",
        "outputId": "8853003d-1d58-430c-d5a8-839b3d7f70c2"
      },
      "source": [
        "#plot the results and also fill your answer sheet\n",
        "fig, ax1 = plt.subplots()\n",
        "color = 'tab:blue'\n",
        "ax1.set_xlabel('hours')\n",
        "ax1.set_ylabel('power [W]', color=color)\n",
        "ax1.bar(np.arange(T), P_max_3*p_3.value, color=color)\n",
        "ax1.tick_params(axis='y', labelcolor=color)\n",
        "ax2 = ax1.twinx()  # instantiate a second axes that shares the same x-axis\n",
        "\n",
        "color = 'tab:red'\n",
        "ax2.set_ylabel('price[EUR/kWh]', color=color)  # we already handled the x-label with ax1\n",
        "ax2.plot(np.arange(T), price*1e3, color=color)\n",
        "ax2.tick_params(axis='y', labelcolor=color)\n",
        "\n",
        "fig.tight_layout()  # otherwise the right y-label is slightly clipped\n",
        "plt.show()\n",
        "print(Etot)\n",
        "print(sum(P_max_3*p_3.value))"
      ],
      "execution_count": null,
      "outputs": [
        {
          "output_type": "display_data",
          "data": {
            "image/png": "[encoded data removed]",
            "text/plain": [
              "<Figure size 432x288 with 2 Axes>"
            ]
          },
          "metadata": {
            "tags": []
          }
        },
        {
          "output_type": "stream",
          "text": [
            "[4550]\n",
            "4800.0\n"
          ],
          "name": "stdout"
        }
      ]
    },
    {
      "cell_type": "markdown",
      "metadata": {
        "id": "vnvmmlKXglbY"
      },
      "source": [
        "# 4: Demand Response4:"
      ]
    },
    {
      "cell_type": "markdown",
      "metadata": {
        "id": "IQQetpFVglbY"
      },
      "source": [
        "Repeat the 3rd step, but here please convert it to a MILP."
      ]
    },
    {
      "cell_type": "code",
      "metadata": {
        "id": "M0gW9DeKglba"
      },
      "source": [
        "P_max_4 = 600\n",
        "Etot = sum(load*dt)\n",
        "\n"
      ],
      "execution_count": null,
      "outputs": []
    },
    {
      "cell_type": "code",
      "metadata": {
        "id": "hiIZ0MuGjy07"
      },
      "source": [
        "#variable p_4\n",
        "\n",
        "p_4 = cp.Variable(T)\n"
      ],
      "execution_count": null,
      "outputs": []
    },
    {
      "cell_type": "code",
      "metadata": {
        "id": "REFl5fQIj4np"
      },
      "source": [
        "#Constraints: Power constraints and Energy constraint\n",
        "\n",
        "\n",
        "constraints = [0 <= p_4, p_4 <= P_max_4, sum(p_4*dt) == Etot]"
      ],
      "execution_count": null,
      "outputs": []
    },
    {
      "cell_type": "code",
      "metadata": {
        "id": "5z8e6xfWj7_b"
      },
      "source": [
        "#objective function\n",
        "\n",
        "\n",
        "objective = cp.Minimize(sum(p_4*dt*price))\n"
      ],
      "execution_count": null,
      "outputs": []
    },
    {
      "cell_type": "code",
      "metadata": {
        "id": "POds5BsfkAT5"
      },
      "source": [
        "#Solve optimization problem\n",
        "\n",
        "prob = cp.Problem(objective, constraints)"
      ],
      "execution_count": null,
      "outputs": []
    },
    {
      "cell_type": "code",
      "metadata": {
        "colab": {
          "base_uri": "https://localhost:8080/",
          "height": 108
        },
        "id": "xvaqp43vkDUh",
        "outputId": "b4f9cff3-54d0-45d9-ad22-8504ebd873d4"
      },
      "source": [
        "# print the optimal results\n",
        "print(\"Total cost DR1\", prob.solve(solver=cp.GLPK_MI))\n",
        "print(\"Optimal var\")\n",
        "print(p_4.value) # A numpy ndarray.\n",
        "print(sum(p_4.value))\n"
      ],
      "execution_count": null,
      "outputs": [
        {
          "output_type": "stream",
          "text": [
            "Total cost DR1 0.57771885\n",
            "Optimal var\n",
            "[600. 600. 600. 600. 600. 600. 350.   0.   0.   0.   0.   0.   0.   0.\n",
            "   0.   0.   0.   0.   0.   0.   0.   0.   0. 600.]\n",
            "4550.0\n"
          ],
          "name": "stdout"
        }
      ]
    },
    {
      "cell_type": "code",
      "metadata": {
        "colab": {
          "base_uri": "https://localhost:8080/",
          "height": 297
        },
        "id": "17cBM-KOkGKG",
        "outputId": "bf662fbe-309c-4001-f737-ce36005bc74f"
      },
      "source": [
        "#plot the results\n",
        "fig, ax1 = plt.subplots()\n",
        "color = 'tab:blue'\n",
        "ax1.set_xlabel('hours')\n",
        "ax1.set_ylabel('power [W]', color=color)\n",
        "ax1.bar(np.arange(T), p_4.value, color=color)\n",
        "ax1.tick_params(axis='y', labelcolor=color)\n",
        "ax2 = ax1.twinx()  # instantiate a second axes that shares the same x-axis\n",
        "\n",
        "color = 'tab:red'\n",
        "ax2.set_ylabel('price[EUR/kWh]', color=color)  # we already handled the x-label with ax1\n",
        "ax2.plot(np.arange(T), price*1e3, color=color)\n",
        "ax2.tick_params(axis='y', labelcolor=color)\n",
        "\n",
        "fig.tight_layout()  # otherwise the right y-label is slightly clipped\n",
        "plt.show()"
      ],
      "execution_count": null,
      "outputs": [
        {
          "output_type": "display_data",
          "data": {
            "image/png": "[encoded data removed]",
            "text/plain": [
              "<Figure size 432x288 with 2 Axes>"
            ]
          },
          "metadata": {
            "tags": []
          }
        }
      ]
    }
  ]
}